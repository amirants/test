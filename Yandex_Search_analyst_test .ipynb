{
  "nbformat": 4,
  "nbformat_minor": 0,
  "metadata": {
    "colab": {
      "name": "Yandex_Search_analyst_test.ipynb",
      "provenance": []
    },
    "kernelspec": {
      "name": "python3",
      "display_name": "Python 3"
    }
  },
  "cells": [
    {
      "cell_type": "markdown",
      "metadata": {
        "id": "NJazgeorYjYo"
      },
      "source": [
        "\n",
        "\n",
        "*   **gcd(x, y)** - возвращает наибольший общий делитель целых x и y\n",
        "*   **candy_count(arr)** - возвращает словарь с количеством конфет каждого типа\n",
        "*   **n_friends(arr)** - возвращает количество друзей (ответ)\n",
        "\n",
        "\n",
        "\n"
      ]
    },
    {
      "cell_type": "code",
      "metadata": {
        "id": "moa9MLxpOdSd"
      },
      "source": [
        "def gcd(x, y):\n",
        "  if y == 0:\n",
        "    return x\n",
        "  else:\n",
        "    t = x\n",
        "    x = y\n",
        "    y = t % y\n",
        "    return gcd(x, y)\n",
        "  \n",
        "def candy_count(arr):\n",
        "  res = {}\n",
        "  for candy in arr:\n",
        "    if candy in res.keys():\n",
        "      res[candy] += 1\n",
        "    else:\n",
        "      res[candy] = 1\n",
        "  return res\n",
        "\n",
        "def n_friends(counts):\n",
        "  if len(counts) == 1:\n",
        "    return counts[0]\n",
        "  elif len(counts) == 2:\n",
        "    return gcd(counts[0], counts[1])\n",
        "  else:\n",
        "    return gcd(counts[0], n_friends(counts[1:]))"
      ],
      "execution_count": 1,
      "outputs": []
    },
    {
      "cell_type": "code",
      "metadata": {
        "colab": {
          "base_uri": "https://localhost:8080/"
        },
        "id": "d03kigxkXHeB",
        "outputId": "21e21d47-3cdf-41e6-8d74-3f47c46634b2"
      },
      "source": [
        "arr = ['a', 'b', 'c', 'a', 'b', 'c', 'd']\n",
        "counts = list(candy_count(arr).values())\n",
        "n_friends(counts)"
      ],
      "execution_count": 2,
      "outputs": [
        {
          "output_type": "execute_result",
          "data": {
            "text/plain": [
              "1"
            ]
          },
          "metadata": {
            "tags": []
          },
          "execution_count": 2
        }
      ]
    },
    {
      "cell_type": "code",
      "metadata": {
        "id": "8Ybk82vWwndp"
      },
      "source": [
        "arr = ['a'] * 6 + ['b'] * 3 + ['c'] * 4\n",
        "counts = list(candy_count(arr).values())"
      ],
      "execution_count": 3,
      "outputs": []
    },
    {
      "cell_type": "code",
      "metadata": {
        "colab": {
          "base_uri": "https://localhost:8080/"
        },
        "id": "r1f5-1ujwzbN",
        "outputId": "a5c5197a-4a96-4fd9-a339-fe1a9110cfc9"
      },
      "source": [
        "n_friends(counts)"
      ],
      "execution_count": 4,
      "outputs": [
        {
          "output_type": "execute_result",
          "data": {
            "text/plain": [
              "1"
            ]
          },
          "metadata": {
            "tags": []
          },
          "execution_count": 4
        }
      ]
    }
  ]
}