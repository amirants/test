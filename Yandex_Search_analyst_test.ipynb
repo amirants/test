{
  "nbformat": 4,
  "nbformat_minor": 0,
  "metadata": {
    "colab": {
      "name": "Yandex_Search_analyst_test.ipynb",
      "provenance": []
    },
    "kernelspec": {
      "name": "python3",
      "display_name": "Python 3"
    }
  },
  "cells": [
    {
      "cell_type": "markdown",
      "metadata": {
        "id": "NJazgeorYjYo"
      },
      "source": [
        "\n",
        "\n",
        "*   **gcd(x, y)** - возвращает наибольший общий делитель целых x и y\n",
        "*   **candy_count(arr)** - возвращает словарь с количеством конфет каждого типа\n",
        "*   **n_friends(arr)** - возвращает количество друзей (ответ)\n",
        "\n",
        "\n",
        "\n"
      ]
    },
    {
      "cell_type": "code",
      "metadata": {
        "id": "moa9MLxpOdSd"
      },
      "source": [
        "def gcd(x, y):\n",
        "  if y == 0:\n",
        "    return x\n",
        "  else:\n",
        "    t = x\n",
        "    x = y\n",
        "    y = t % y\n",
        "    return gcd(x, y)\n",
        "  \n",
        "def candy_count(arr):\n",
        "  res = {}\n",
        "  for candy in arr:\n",
        "    if candy in res.keys():\n",
        "      res[candy] += 1\n",
        "    else:\n",
        "      res[candy] = 1\n",
        "  return res\n",
        "\n",
        "def n_friends(arr):\n",
        "  counts = list(candy_count(arr).values())\n",
        "  cur_min = counts[0]\n",
        "  for c in counts[1:]:\n",
        "    if gcd(counts[0], c) < cur_min:\n",
        "      cur_min = gcd(counts[0], c)\n",
        "  return cur_min"
      ],
      "execution_count": 43,
      "outputs": []
    },
    {
      "cell_type": "code",
      "metadata": {
        "colab": {
          "base_uri": "https://localhost:8080/"
        },
        "id": "d03kigxkXHeB",
        "outputId": "dbde0d39-c0cf-4fe5-e599-6bdaafaf1416"
      },
      "source": [
        "arr = ['a', 'b', 'c', 'a', 'b', 'c', 'd', 'd']\n",
        "n_friends(arr)"
      ],
      "execution_count": 46,
      "outputs": [
        {
          "output_type": "execute_result",
          "data": {
            "text/plain": [
              "2"
            ]
          },
          "metadata": {
            "tags": []
          },
          "execution_count": 46
        }
      ]
    },
    {
      "cell_type": "code",
      "metadata": {
        "id": "1he-XuBdXvFC"
      },
      "source": [
        ""
      ],
      "execution_count": null,
      "outputs": []
    }
  ]
}